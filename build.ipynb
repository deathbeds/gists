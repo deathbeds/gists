{
 "cells": [
  {
   "cell_type": "code",
   "execution_count": 77,
   "metadata": {},
   "outputs": [],
   "source": [
    "import nbconvert, pathlib, black"
   ]
  },
  {
   "cell_type": "code",
   "execution_count": 89,
   "metadata": {},
   "outputs": [],
   "source": [
    "for self in list(pathlib.Path().rglob('[^checkpoint]*.ipynb')) + list(pathlib.Path().glob('*.ipynb')): \n",
    "    \n",
    "    self.with_suffix('.py').write_text(nbconvert.get_exporter('python')().from_filename(self)[0])\n",
    "    ('build'/self).parent.mkdir(exist_ok=True, parents=True)\n",
    "    ('build'/self).with_suffix('.md').write_text(nbconvert.get_exporter('markdown')().from_filename(self)[0])"
   ]
  },
  {
   "cell_type": "code",
   "execution_count": 90,
   "metadata": {},
   "outputs": [],
   "source": [
    "requirements = pathlib.Path('requirements.txt').read_text()"
   ]
  },
  {
   "cell_type": "code",
   "execution_count": 91,
   "metadata": {},
   "outputs": [
    {
     "data": {
      "text/plain": [
       "231"
      ]
     },
     "execution_count": 91,
     "metadata": {},
     "output_type": "execute_result"
    }
   ],
   "source": [
    "for self in [x for x in pathlib.Path().glob('*') if x.is_dir() and str(x)[0] not in '.']: \n",
    "    (self/'__init__.py').touch()\n",
    "    if (self/'requirements.txt').exists():\n",
    "        requirements = ''.join(filter(str.strip, '\\n'.join([requirements, (self/'requirements.txt').read_text()]).splitlines(True)))\n",
    "        \n",
    "pathlib.Path('requirements.txt').write_text('\\n'.join(set(requirements.splitlines())))"
   ]
  },
  {
   "cell_type": "code",
   "execution_count": null,
   "metadata": {},
   "outputs": [],
   "source": [
    "    !rm data.sqlite\n",
    "    db = __import__('sqlite_utils').Database('data.sqlite')\n",
    "    db['test'].insert_all([{'a': 10}])"
   ]
  }
 ],
 "metadata": {
  "kernelspec": {
   "display_name": "Python 3",
   "language": "python",
   "name": "python3"
  },
  "language_info": {
   "codemirror_mode": {
    "name": "ipython",
    "version": 3
   },
   "file_extension": ".py",
   "mimetype": "text/x-python",
   "name": "python",
   "nbconvert_exporter": "python",
   "pygments_lexer": "ipython3",
   "version": "3.7.3"
  }
 },
 "nbformat": 4,
 "nbformat_minor": 4
}
