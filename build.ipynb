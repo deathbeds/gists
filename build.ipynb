{
 "cells": [
  {
   "cell_type": "code",
   "execution_count": 76,
   "metadata": {},
   "outputs": [],
   "source": [
    "import nbconvert, pathlib, black"
   ]
  },
  {
   "cell_type": "code",
   "execution_count": 56,
   "metadata": {},
   "outputs": [],
   "source": [
    "for self in list(pathlib.Path().rglob('[^checkpoint]*.ipynb')) + list(pathlib.Path().glob('*.ipynb')): self.with_suffix('.py').write_text(nbconvert.get_exporter('python')().from_filename(self)[0])    "
   ]
  },
  {
   "cell_type": "code",
   "execution_count": 57,
   "metadata": {},
   "outputs": [],
   "source": [
    "requirements = pathlib.Path('requirements.txt').read_text()"
   ]
  },
  {
   "cell_type": "code",
   "execution_count": 68,
   "metadata": {},
   "outputs": [
    {
     "data": {
      "text/plain": [
       "225"
      ]
     },
     "execution_count": 68,
     "metadata": {},
     "output_type": "execute_result"
    }
   ],
   "source": [
    "for self in [x for x in pathlib.Path().glob('*') if x.is_dir() and str(x)[0] not in '.']: \n",
    "    (self/'__init__.py').touch()\n",
    "    if (self/'requirements.txt').exists():\n",
    "        requirements = ''.join(filter(str.strip, '\\n'.join([requirements, (self/'requirements.txt').read_text()]).splitlines(True)))\n",
    "        \n",
    "pathlib.Path('requirements.txt').write_text('\\n'.join(set(requirements.splitlines())))"
   ]
  }
 ],
 "metadata": {
  "kernelspec": {
   "display_name": "Python 3",
   "language": "python",
   "name": "python3"
  },
  "language_info": {
   "codemirror_mode": {
    "name": "ipython",
    "version": 3
   },
   "file_extension": ".py",
   "mimetype": "text/x-python",
   "name": "python",
   "nbconvert_exporter": "python",
   "pygments_lexer": "ipython3",
   "version": "3.7.3"
  }
 },
 "nbformat": 4,
 "nbformat_minor": 4
}
