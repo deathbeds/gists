{
 "cells": [
  {
   "cell_type": "markdown",
   "metadata": {},
   "source": [
    "!git submodule update --init --recursive"
   ]
  },
  {
   "cell_type": "code",
   "execution_count": 53,
   "metadata": {},
   "outputs": [
    {
     "name": "stdout",
     "output_type": "stream",
     "text": [
      "remote: Enumerating objects: 4, done.\u001b[K\n",
      "remote: Counting objects: 100% (4/4), done.\u001b[K\n",
      "remote: Compressing objects: 100% (3/3), done.\u001b[K\n",
      "remote: Total 3 (delta 0), reused 0 (delta 0), pack-reused 0\u001b[K\n",
      "Unpacking objects: 100% (3/3), done.\n",
      "From https://gist.github.com/tonyfast/6382152537773be2ffc208c3d4e526c2\n",
      "   3a1c70f..9420603  master     -> origin/master\n",
      "Submodule path 'wypes': checked out '9420603ca88aaf1a9e09fc8e9c81e7d59672431b'\n"
     ]
    }
   ],
   "source": [
    "!git submodule update --recursive --remote\n"
   ]
  },
  {
   "cell_type": "code",
   "execution_count": 54,
   "metadata": {},
   "outputs": [],
   "source": [
    "import nbconvert"
   ]
  },
  {
   "cell_type": "code",
   "execution_count": 55,
   "metadata": {},
   "outputs": [],
   "source": [
    "import pathlib, black"
   ]
  },
  {
   "cell_type": "code",
   "execution_count": 56,
   "metadata": {},
   "outputs": [],
   "source": [
    "for self in list(pathlib.Path().rglob('[^checkpoint]*.ipynb')) + list(pathlib.Path().glob('*.ipynb')): self.with_suffix('.py').write_text(nbconvert.get_exporter('python')().from_filename(self)[0])    "
   ]
  },
  {
   "cell_type": "code",
   "execution_count": 57,
   "metadata": {},
   "outputs": [],
   "source": [
    "requirements = pathlib.Path('requirements.txt').read_text()"
   ]
  },
  {
   "cell_type": "code",
   "execution_count": 68,
   "metadata": {},
   "outputs": [
    {
     "data": {
      "text/plain": [
       "225"
      ]
     },
     "execution_count": 68,
     "metadata": {},
     "output_type": "execute_result"
    }
   ],
   "source": [
    "for self in [x for x in pathlib.Path().glob('*') if x.is_dir() and str(x)[0] not in '.']: \n",
    "    (self/'__init__.py').touch()\n",
    "    if (self/'requirements.txt').exists():\n",
    "        requirements = ''.join(filter(str.strip, '\\n'.join([requirements, (self/'requirements.txt').read_text()]).splitlines(True)))\n",
    "        \n",
    "pathlib.Path('requirements.txt').write_text('\\n'.join(set(requirements.splitlines())))"
   ]
  },
  {
   "cell_type": "code",
   "execution_count": 69,
   "metadata": {},
   "outputs": [
    {
     "name": "stdout",
     "output_type": "stream",
     "text": [
      "\u001b[1mreformatted /Users/tonyfast/gists2/setup.py\u001b[0m\n",
      "\u001b[1mreformatted /Users/tonyfast/gists2/build.py\u001b[0m\n",
      "\u001b[1mreformatted /Users/tonyfast/gists2/wypes/namespaces.py\u001b[0m\n",
      "\u001b[1mAll done! ✨ 🍰 ✨\u001b[0m\n",
      "\u001b[1m3 files reformatted\u001b[0m, 1 file left unchanged.\u001b[0m\n",
      "Fixing /Users/tonyfast/gists2/wypes/namespaces.py\n"
     ]
    }
   ],
   "source": [
    "!black .\n",
    "!isort **/*.py"
   ]
  },
  {
   "cell_type": "code",
   "execution_count": 70,
   "metadata": {},
   "outputs": [],
   "source": [
    "!python setup.py develop"
   ]
  },
  {
   "cell_type": "code",
   "execution_count": 75,
   "metadata": {},
   "outputs": [
    {
     "name": "stdout",
     "output_type": "stream",
     "text": [
      "\u001b[1m============================= test session starts ==============================\u001b[0m\n",
      "platform darwin -- Python 3.7.3, pytest-5.0.1, py-1.8.0, pluggy-0.12.0\n",
      "rootdir: /Users/tonyfast/gists2\n",
      "plugins: nbval-0.9.2, arraydiff-0.3, doctestplus-0.3.0, openfiles-0.3.2, remotedata-0.3.1, importnb-0.5.5\n",
      "collected 0 items                                                              \u001b[0m\n",
      "\n",
      "\u001b[33m\u001b[1m========================= no tests ran in 0.01 seconds =========================\u001b[0m\n"
     ]
    }
   ],
   "source": [
    "!pytest"
   ]
  }
 ],
 "metadata": {
  "kernelspec": {
   "display_name": "Python 3",
   "language": "python",
   "name": "python3"
  },
  "language_info": {
   "codemirror_mode": {
    "name": "ipython",
    "version": 3
   },
   "file_extension": ".py",
   "mimetype": "text/x-python",
   "name": "python",
   "nbconvert_exporter": "python",
   "pygments_lexer": "ipython3",
   "version": "3.7.3"
  }
 },
 "nbformat": 4,
 "nbformat_minor": 4
}
