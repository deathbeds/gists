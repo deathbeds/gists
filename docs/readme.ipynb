{
 "cells": [
  {
   "cell_type": "markdown",
   "metadata": {},
   "source": [
    "[![Binder](https://mybinder.org/badge_logo.svg)](https://mybinder.org/v2/gh/tonyfast/gists/master)\n",
    "![PyPI - Python Version](https://img.shields.io/pypi/pyversions/tonyfast)"
   ]
  },
  {
   "cell_type": "code",
   "execution_count": 11,
   "metadata": {},
   "outputs": [],
   "source": [
    "%reload_ext tonyfast"
   ]
  },
  {
   "cell_type": "code",
   "execution_count": 13,
   "metadata": {},
   "outputs": [],
   "source": [
    "from tonyfast import jschema; import pandas, requests"
   ]
  },
  {
   "cell_type": "code",
   "execution_count": 82,
   "metadata": {},
   "outputs": [],
   "source": [
    "df = jschema.Dict(\n",
    "    (x.name, F\"\"\"{x.url.replace(\n",
    "        'https://gist.github.com/tonyfast/', 'https://api.github.com/gists/'\n",
    "    )}\"\"\") for x in \"\".git().submodules).series().apply(jschema.Uri.json).apply(pandas.Series)\n",
    "df[[x for x in df.columns if x.endswith('_at')]] = df[[x for x in df.columns if x.endswith('_at')]].apply(pandas.to_datetime)\n",
    "df = df.loc[df.updated_at.sort_values(ascending=False).index]"
   ]
  },
  {
   "cell_type": "code",
   "execution_count": 134,
   "metadata": {},
   "outputs": [
    {
     "data": {
      "text/plain": [
       "url             https://api.github.com/gists/646e4f4f216286c6a...\n",
       "forks_url       https://api.github.com/gists/646e4f4f216286c6a...\n",
       "commits_url     https://api.github.com/gists/646e4f4f216286c6a...\n",
       "id                               646e4f4f216286c6aa0a17fadba2c505\n",
       "node_id         MDQ6R2lzdDY0NmU0ZjRmMjE2Mjg2YzZhYTBhMTdmYWRiYT...\n",
       "git_pull_url    https://gist.github.com/646e4f4f216286c6aa0a17...\n",
       "git_push_url    https://gist.github.com/646e4f4f216286c6aa0a17...\n",
       "html_url        https://gist.github.com/646e4f4f216286c6aa0a17...\n",
       "files           {'QR.ipynb': {'filename': 'QR.ipynb', 'type': ...\n",
       "public                                                       True\n",
       "created_at                              2019-09-12 02:10:16+00:00\n",
       "updated_at                              2019-09-20 13:15:49+00:00\n",
       "description                                                      \n",
       "comments                                                        1\n",
       "user                                                         None\n",
       "comments_url    https://api.github.com/gists/646e4f4f216286c6a...\n",
       "owner           {'login': 'tonyfast', 'id': 4236275, 'node_id'...\n",
       "forks                                                          []\n",
       "history         [{'user': {'login': 'tonyfast', 'id': 4236275,...\n",
       "truncated                                                   False\n",
       "Name: tonyfast/qr, dtype: object"
      ]
     },
     "execution_count": 134,
     "metadata": {},
     "output_type": "execute_result"
    }
   ],
   "source": [
    "series."
   ]
  },
  {
   "cell_type": "code",
   "execution_count": 125,
   "metadata": {},
   "outputs": [],
   "source": [
    "export = nbformat.v4.new_notebook(cells=[])\n",
    "for path, series in df.iterrows(): \n",
    "    export['cells'].append(nbformat.NotebookNode(F\"\"\"## {}\n",
    "    \n",
    "    * > {series.description}\n",
    "    \n",
    "    \"\"\".json()['cells'][0]))\n",
    "    for file, row in jschema.List(\n",
    "        series.files.values()\n",
    "    ).pipe(pandas.DataFrame).pipe(lambda df: df[df.language==\"Jupyter Notebook\"]).set_index('filename').iterrows():\n",
    "        \n",
    "        export['cells'][-1].source = ''.join(export['cells'][-1].source)"
   ]
  },
  {
   "cell_type": "code",
   "execution_count": 131,
   "metadata": {},
   "outputs": [
    {
     "data": {
      "text/markdown": [
       "Automatically generate interactive widgets for functions.\n"
      ],
      "text/plain": [
       "<IPython.core.display.Markdown object>"
      ]
     },
     "execution_count": 131,
     "metadata": {},
     "output_type": "execute_result"
    }
   ],
   "source": [
    "__import__('IPython').display.Markdown(nbconvert.get_exporter('markdown')(exclude_input=True).from_notebook_node(export)[0])"
   ]
  },
  {
   "cell_type": "code",
   "execution_count": null,
   "metadata": {},
   "outputs": [],
   "source": []
  }
 ],
 "metadata": {
  "kernelspec": {
   "display_name": "Python 3",
   "language": "python",
   "name": "python3"
  },
  "language_info": {
   "codemirror_mode": {
    "name": "ipython",
    "version": 3
   },
   "file_extension": ".py",
   "mimetype": "text/x-python",
   "name": "python",
   "nbconvert_exporter": "python",
   "pygments_lexer": "ipython3",
   "version": "3.7.3"
  }
 },
 "nbformat": 4,
 "nbformat_minor": 4
}
