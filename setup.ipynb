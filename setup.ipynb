{
 "cells": [
  {
   "cell_type": "code",
   "execution_count": 2,
   "metadata": {},
   "outputs": [
    {
     "ename": "NameError",
     "evalue": "name '__file__' is not defined",
     "output_type": "error",
     "traceback": [
      "\u001b[0;31m---------------------------------------------------------------------------\u001b[0m",
      "\u001b[0;31mNameError\u001b[0m                                 Traceback (most recent call last)",
      "\u001b[0;32m<ipython-input-2-b5e8e2702a27>\u001b[0m in \u001b[0;36m<module>\u001b[0;34m\u001b[0m\n\u001b[1;32m      6\u001b[0m \u001b[0m__version__\u001b[0m \u001b[0;34m=\u001b[0m \u001b[0;32mNone\u001b[0m\u001b[0;34m\u001b[0m\u001b[0;34m\u001b[0m\u001b[0m\n\u001b[1;32m      7\u001b[0m \u001b[0;34m\u001b[0m\u001b[0m\n\u001b[0;32m----> 8\u001b[0;31m \u001b[0mhere\u001b[0m \u001b[0;34m=\u001b[0m \u001b[0mPath\u001b[0m\u001b[0;34m(\u001b[0m\u001b[0m__file__\u001b[0m\u001b[0;34m)\u001b[0m\u001b[0;34m.\u001b[0m\u001b[0mparent\u001b[0m\u001b[0;34m\u001b[0m\u001b[0;34m\u001b[0m\u001b[0m\n\u001b[0m\u001b[1;32m      9\u001b[0m \u001b[0;34m\u001b[0m\u001b[0m\n\u001b[1;32m     10\u001b[0m setup_args = dict(\n",
      "\u001b[0;31mNameError\u001b[0m: name '__file__' is not defined"
     ]
    }
   ],
   "source": [
    "import setuptools, datetime, nbconvert\n",
    "from pathlib import Path\n",
    "\n",
    "name = \"tonyfast\"\n",
    "\n",
    "__version__ = None\n",
    "\n",
    "here = Path(__file__).parent\n",
    "\n",
    "setup_args = dict(\n",
    "    name=name,\n",
    "    version=datetime.datetime.now().isoformat().rpartition(':')[0].replace('-', '.').replace('T', '.').replace(':', '.'),\n",
    "    author=\"tonyfast\",\n",
    "    url=\"https://github.com/tonyfast/gists\",\n",
    "    long_description=Path('build/readme.md').read_text(),\n",
    "    long_description_content_type='text/markdown',\n",
    "\n",
    "    python_requires=\">=3.7\",\n",
    "    license=\"BSD-3-Clause\",\n",
    "    setup_requires=['pytest-runner'],\n",
    "    tests_require=['pytest', \"hypothesis\", 'nbval'],\n",
    "    install_requires=Path('requirements.txt').read_text().splitlines(),\n",
    "    include_package_data=True,\n",
    "    packages=setuptools.find_packages(),\n",
    "    entry_points = {\n",
    "        'pytest11': [],\n",
    "    },\n",
    "    classifiers=[\n",
    "        \"Development Status :: 4 - Beta\",\n",
    "        \"Framework :: IPython\",\n",
    "        \"Framework :: Jupyter\",\n",
    "        \"Intended Audience :: Developers\",\n",
    "        \"Natural Language :: English\",\n",
    "        \"License :: OSI Approved :: BSD License\",\n",
    "        \"Programming Language :: Python\",\n",
    "        \"Programming Language :: Python :: 3.6\",\n",
    "        \"Programming Language :: Python :: 3.7\",],)\n",
    "\n",
    "if __name__ == \"__main__\" and '__file__' in globals():\n",
    "    setuptools.setup(**setup_args)\n"
   ]
  },
  {
   "cell_type": "code",
   "execution_count": null,
   "metadata": {},
   "outputs": [],
   "source": []
  }
 ],
 "metadata": {
  "kernelspec": {
   "display_name": "Python 3",
   "language": "python",
   "name": "python3"
  },
  "language_info": {
   "codemirror_mode": {
    "name": "ipython",
    "version": 3
   },
   "file_extension": ".py",
   "mimetype": "text/x-python",
   "name": "python",
   "nbconvert_exporter": "python",
   "pygments_lexer": "ipython3",
   "version": "3.7.3"
  }
 },
 "nbformat": 4,
 "nbformat_minor": 4
}
